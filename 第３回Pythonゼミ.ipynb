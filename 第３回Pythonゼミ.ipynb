{
  "nbformat": 4,
  "nbformat_minor": 0,
  "metadata": {
    "colab": {
      "name": "第３回Pythonゼミ.ipynb",
      "provenance": [],
      "collapsed_sections": [],
      "include_colab_link": true
    },
    "kernelspec": {
      "name": "python3",
      "display_name": "Python 3"
    },
    "language_info": {
      "name": "python"
    }
  },
  "cells": [
    {
      "cell_type": "markdown",
      "metadata": {
        "id": "view-in-github",
        "colab_type": "text"
      },
      "source": [
        "<a href=\"https://colab.research.google.com/github/HazukiWakao/seminarpy/blob/main/%E7%AC%AC%EF%BC%93%E5%9B%9EPython%E3%82%BC%E3%83%9F.ipynb\" target=\"_parent\"><img src=\"https://colab.research.google.com/assets/colab-badge.svg\" alt=\"Open In Colab\"/></a>"
      ]
    },
    {
      "cell_type": "markdown",
      "metadata": {
        "id": "1554CHoXbX7O"
      },
      "source": [
        "平均を求める"
      ]
    },
    {
      "cell_type": "code",
      "metadata": {
        "colab": {
          "base_uri": "https://localhost:8080/"
        },
        "id": "FcY-Vl02P_sf",
        "outputId": "ca5dfe99-fbd7-443b-dd4c-eeca7912b952"
      },
      "source": [
        "shortlist=[1,2,3] #関数に引数としてリストが指定され合計が出力\n",
        "sum(shortlist)"
      ],
      "execution_count": null,
      "outputs": [
        {
          "output_type": "execute_result",
          "data": {
            "text/plain": [
              "6"
            ]
          },
          "metadata": {
            "tags": []
          },
          "execution_count": 3
        }
      ]
    },
    {
      "cell_type": "code",
      "metadata": {
        "colab": {
          "base_uri": "https://localhost:8080/"
        },
        "id": "J5Il-0xubpdb",
        "outputId": "c56bf2ab-9902-4f70-a123-3cef3f2708b3"
      },
      "source": [
        "len(shortlist) #リストの長さ"
      ],
      "execution_count": null,
      "outputs": [
        {
          "output_type": "execute_result",
          "data": {
            "text/plain": [
              "3"
            ]
          },
          "metadata": {
            "tags": []
          },
          "execution_count": 4
        }
      ]
    },
    {
      "cell_type": "code",
      "metadata": {
        "colab": {
          "base_uri": "https://localhost:8080/"
        },
        "id": "pfq2LkB2cBnt",
        "outputId": "460d39a3-469b-4510-faf9-30d2d0ca0323"
      },
      "source": [
        "'''\n",
        "calculating the mean 平均を計算\n",
        "１２日の寄付金活動を行った際の１日の平均寄付金額\n",
        "'''\n",
        "\n",
        "def calculate_mean(numbers):\n",
        "  s = sum(numbers) #sを合計\n",
        "  N = len(numbers) #Nをリストの個数（日数）\n",
        "  # calculate the mean\n",
        "  mean = s/N #合計÷個数\n",
        "  return mean\n",
        "if __name__=='__main__': #おまじない\n",
        "  donations=[100,60,70,900,100,200,500,500,503,600,1000,1200] #１２日間の寄付金額のリスト\n",
        "  mean = calculate_mean(donations) #平均\n",
        "  N = len(donations)\n",
        "  print('Mean donation over the last {0} days is {1}'.format(N,mean))"
      ],
      "execution_count": null,
      "outputs": [
        {
          "output_type": "stream",
          "text": [
            "Mean donation over the last 12 days is 477.75\n"
          ],
          "name": "stdout"
        }
      ]
    },
    {
      "cell_type": "markdown",
      "metadata": {
        "id": "WJOL-ZdRg4zt"
      },
      "source": [
        "中央値を求める"
      ]
    },
    {
      "cell_type": "code",
      "metadata": {
        "colab": {
          "base_uri": "https://localhost:8080/"
        },
        "id": "FtEhT4_jg-Cz",
        "outputId": "83c2716e-59a8-4ad9-b89a-15c405a50d6e"
      },
      "source": [
        "samplelist=[4,1,3]\n",
        "samplelist.sort() #リストの中の数字をソートし並び替える\n",
        "samplelist"
      ],
      "execution_count": null,
      "outputs": [
        {
          "output_type": "execute_result",
          "data": {
            "text/plain": [
              "[1, 3, 4]"
            ]
          },
          "metadata": {
            "tags": []
          },
          "execution_count": 7
        }
      ]
    },
    {
      "cell_type": "code",
      "metadata": {
        "colab": {
          "base_uri": "https://localhost:8080/"
        },
        "id": "F3U58LYUiFRq",
        "outputId": "072f829f-0fe7-40fc-9d1d-aed1a70b98a0"
      },
      "source": [
        "'''\n",
        "calculating the median #中央値を計算\n",
        "寄付金額の中央値\n",
        "'''\n",
        "\n",
        "def calculate_median(numbers):\n",
        "    N = len(numbers)\n",
        "    numbers.sort()\n",
        "  #find the median 中央値を求める\n",
        "    if N % 2 == 0: #リストの長さが偶数\n",
        "    #if N is even\n",
        "        m1 = N/2 #リストの真ん中の2つの数の１つ目\n",
        "        m2 = (N/2)+1 #2つ目\n",
        "    #convert to integer,match position 整数に変換、位置合わせ\n",
        "        m1 = int(m1)-1 #リストは１からだけど、データは0番目から数えるから-1して番目を合わす\n",
        "        m2 = int(m2)-1\n",
        "        median = (numbers[m1]+numbers[m2])/2 #中央値を計算\n",
        "    else: #リストの長さが奇数\n",
        "        m = (N+1)/2\n",
        "    #convert to integer,match position 整数に変換、位置合わせ\n",
        "        m = int(m)-1\n",
        "        median = numbers[m] \n",
        "    return median\n",
        "\n",
        "if __name__=='__main__':\n",
        "    donations=[100,60,70,900,100,200,500,500,503,600,1000,1200]\n",
        "    median = calculate_median(donations)\n",
        "    N = len(donations)\n",
        "    print('Median donation over the last {0} days is {1}'.format(N,median))"
      ],
      "execution_count": null,
      "outputs": [
        {
          "output_type": "stream",
          "text": [
            "Median donation over the last 12 days is 500.0\n"
          ],
          "name": "stdout"
        }
      ]
    },
    {
      "cell_type": "markdown",
      "metadata": {
        "id": "ar24mLh62V4h"
      },
      "source": [
        "一番大きい要素を見つける"
      ]
    },
    {
      "cell_type": "code",
      "metadata": {
        "colab": {
          "base_uri": "https://localhost:8080/"
        },
        "id": "MflbEJsv2ayd",
        "outputId": "a02c4692-ad31-4cb9-9f3a-e802bfd60fb4"
      },
      "source": [
        "simplelist=[4,2,1,3,4]\n",
        "from collections import Counter\n",
        "c = Counter(simplelist)\n",
        "c.most_common(3) #(数,出現回数)　most_common(多い順で何番目までほしいか)"
      ],
      "execution_count": null,
      "outputs": [
        {
          "output_type": "execute_result",
          "data": {
            "text/plain": [
              "[(4, 2), (2, 1), (1, 1)]"
            ]
          },
          "metadata": {
            "tags": []
          },
          "execution_count": 10
        }
      ]
    },
    {
      "cell_type": "code",
      "metadata": {
        "colab": {
          "base_uri": "https://localhost:8080/"
        },
        "id": "ofkvgMLa32D9",
        "outputId": "eab8106f-906f-4e74-baac-93bbf3ab49d9"
      },
      "source": [
        "mode = c.most_common(1) #一番多いものをタプルで出力\n",
        "mode"
      ],
      "execution_count": null,
      "outputs": [
        {
          "output_type": "execute_result",
          "data": {
            "text/plain": [
              "[(4, 2)]"
            ]
          },
          "metadata": {
            "tags": []
          },
          "execution_count": 11
        }
      ]
    },
    {
      "cell_type": "code",
      "metadata": {
        "colab": {
          "base_uri": "https://localhost:8080/"
        },
        "id": "q9pkC-HH4Sp8",
        "outputId": "93b5eb7c-c2fd-473a-e38d-695d45623f9c"
      },
      "source": [
        "mode[0][0] #タプル(数,出現回数)の要素[0][1]を取り出す"
      ],
      "execution_count": null,
      "outputs": [
        {
          "output_type": "execute_result",
          "data": {
            "text/plain": [
              "4"
            ]
          },
          "metadata": {
            "tags": []
          },
          "execution_count": 12
        }
      ]
    },
    {
      "cell_type": "markdown",
      "metadata": {
        "id": "iJ0IDPX_5HUE"
      },
      "source": [
        "最頻値を探す"
      ]
    },
    {
      "cell_type": "code",
      "metadata": {
        "colab": {
          "base_uri": "https://localhost:8080/"
        },
        "id": "6PBwTYP05Kp9",
        "outputId": "1ab121e9-f05f-46ba-a0cb-cf354dc84dc4"
      },
      "source": [
        "'''\n",
        "calculating the mode 最頻値を探す\n",
        "'''\n",
        "\n",
        "from collections import Counter\n",
        "\n",
        "def calculate_mode(numbers):\n",
        "  c = Counter(numbers)\n",
        "  mode = c.most_common(1) #最も多いものタプルで取り出す\n",
        "  return mode[0][0] #タプル(数,出現回数)の数が欲しいから要素[0][0]\n",
        "\n",
        "if __name__=='__main__':\n",
        "  scores = [7,8,9,2,10,9,9,9,9,4,5,6,1,5,6,7,8,6,1,10]\n",
        "  mode = calculate_mode(scores)\n",
        "\n",
        "  print('The mode of the list of numbers is: {0}'.format(mode))"
      ],
      "execution_count": null,
      "outputs": [
        {
          "output_type": "stream",
          "text": [
            "The mode of the list of numbers is: 9\n"
          ],
          "name": "stdout"
        }
      ]
    },
    {
      "cell_type": "code",
      "metadata": {
        "colab": {
          "base_uri": "https://localhost:8080/"
        },
        "id": "tH8eaj1c7Bnn",
        "outputId": "b5b3eb75-0bef-4fa2-a04a-11d8979fc311"
      },
      "source": [
        "'''\n",
        "calculating the mode when the list of numbers may\n",
        "have multiple modes 数のリストに複数の最頻値がある場合\n",
        "'''\n",
        "\n",
        "from collections import Counter\n",
        "\n",
        "def calculate_mode(numbers):\n",
        "  c = Counter(numbers)\n",
        "  numbers_freq = c.most_common() #多いものすべてをタプル(数,出現回数)で取り出す\n",
        "  max_count = numbers_freq[0][1] #最も多い出現回数を取り出す\n",
        "  modes = []\n",
        "  for num in numbers_freq: #タプルの数だけ繰り返す\n",
        "    if num[1] == max_count: #最も多い出現回数に等しいかチェック\n",
        "      modes.append(num[0]) #タプルの数をリストmodesに追加\n",
        "  return modes\n",
        "\n",
        "if __name__=='__main__':\n",
        "  scores = [5,5,5,4,4,4,9,1,3]\n",
        "  modes = calculate_mode(scores)\n",
        "  print('the mode(s) of the list of numbers are:')\n",
        "  for mode in modes:\n",
        "    print(mode)"
      ],
      "execution_count": null,
      "outputs": [
        {
          "output_type": "stream",
          "text": [
            "the mode(s) of the list of numbers are:\n",
            "5\n",
            "4\n"
          ],
          "name": "stdout"
        }
      ]
    },
    {
      "cell_type": "markdown",
      "metadata": {
        "id": "bfFKHo8nAvAT"
      },
      "source": [
        "度数分布表を作る"
      ]
    },
    {
      "cell_type": "code",
      "metadata": {
        "id": "BbFuquHXAyoL",
        "colab": {
          "base_uri": "https://localhost:8080/"
        },
        "outputId": "cd91460a-452c-4d97-b330-8f664934029e"
      },
      "source": [
        "'''\n",
        "frequency tabel for list numbers 数のリストの度数分布表\n",
        "'''\n",
        "\n",
        "from collections import Counter\n",
        "def frequency_table(numbers):\n",
        "  table = Counter(numbers)\n",
        "  numbers_freq = table.most_common() #多い順にすべてをタプル(数,出現回数)で取り出す\n",
        "  numbers_freq.sort() #順番を整理する\n",
        "\n",
        "  print('点数\\t頻度')\n",
        "  for number in numbers_freq: #取り出したタプルの数だけ繰り返す\n",
        "    print('{0}\\t{1}'.format(number[0],number[1])) #点数　頻度　の表示を繰り返す\n",
        "\n",
        "if __name__=='__main__':\n",
        "  scores = [7,8,9,2,10,9,9,9,9,4,5,6,1,5,6,7,8,6,1,10]\n",
        "  frequency_table(scores)"
      ],
      "execution_count": null,
      "outputs": [
        {
          "output_type": "stream",
          "text": [
            "点数\t頻度\n",
            "1\t2\n",
            "2\t1\n",
            "4\t1\n",
            "5\t2\n",
            "6\t3\n",
            "7\t2\n",
            "8\t2\n",
            "9\t5\n",
            "10\t2\n"
          ],
          "name": "stdout"
        }
      ]
    },
    {
      "cell_type": "markdown",
      "metadata": {
        "id": "u8yI5I301TD2"
      },
      "source": [
        "数集合の範囲を決める"
      ]
    },
    {
      "cell_type": "code",
      "metadata": {
        "colab": {
          "base_uri": "https://localhost:8080/"
        },
        "id": "PhYsu05m1Wc_",
        "outputId": "9c2aba2c-ac21-461c-e2db-c9ad32401466"
      },
      "source": [
        "'''\n",
        "find the range 範囲を決める\n",
        "'''\n",
        "\n",
        "def find_range(numbers):\n",
        "   lowest = min(numbers) #最小値を探す\n",
        "   highest = max(numbers) #最大値を探す\n",
        "   #find the range\n",
        "   r = highest-lowest #最大と最小の差で範囲を計算\n",
        "   return lowest, highest, r\n",
        "\n",
        "if __name__=='__main__':\n",
        "  donations = [100,60,70,900,100,200,500,500,503,600,1000,1200]\n",
        "  lowest, highest, r = find_range(donations)\n",
        "  print('最低額:{0} 最高額:{1} 範囲:{2}'.format(lowest, highest, r))"
      ],
      "execution_count": null,
      "outputs": [
        {
          "output_type": "stream",
          "text": [
            "最低額:60 最高額:1200 範囲:1140\n"
          ],
          "name": "stdout"
        }
      ]
    },
    {
      "cell_type": "markdown",
      "metadata": {
        "id": "9LhRF5gK30-x"
      },
      "source": [
        "分散と標準偏差を求める"
      ]
    },
    {
      "cell_type": "code",
      "metadata": {
        "id": "55FoibTi4cU0",
        "colab": {
          "base_uri": "https://localhost:8080/"
        },
        "outputId": "87b069e0-8642-4b5e-80cf-8e4fb4a69d77"
      },
      "source": [
        "'''\n",
        "数のリストの分散と標準偏差を求める\n",
        "'''\n",
        "\n",
        "def calculate_mean(numbers):\n",
        "  s = sum(numbers) #合計\n",
        "  N = len(numbers) #リストの長さ\n",
        "  mean = s/N #平均\n",
        "  return mean\n",
        "\n",
        "def find_differences(numbers):\n",
        "  mean = calculate_mean(numbers)\n",
        "  diff = []\n",
        "  for num in numbers: #データの数だけ繰り返す\n",
        "    diff.append(num-mean) #データの要素-平均\n",
        "\n",
        "  return diff\n",
        "\n",
        "def calculate_variance(numbers):\n",
        "  diff = find_differences(numbers) #各データの要素-平均\n",
        "  squared_diff = []\n",
        "  for d in diff:\n",
        "    squared_diff.append(d**2) #空のsquared_diff = []に差の２乗を入れる\n",
        "\n",
        "    sum_squared_diff = sum(squared_diff) #差の２乗の合計\n",
        "    variance = sum_squared_diff/len(numbers) #差の２乗の合計÷個数\n",
        "    return variance\n",
        "\n",
        "if __name__ == '__main__':\n",
        "    donations = [100,60,70,900,100,200,500,500,503,600,1000,1200]\n",
        "    variance = calculate_variance(donations)\n",
        "    print('分散は:{0}'.format(variance))\n",
        "\n",
        "    std = variance**0.5\n",
        "    print('標準偏差は:{0}'.format(std))"
      ],
      "execution_count": null,
      "outputs": [
        {
          "output_type": "stream",
          "text": [
            "分散は:11891.255208333334\n",
            "標準偏差は:109.04703209319057\n"
          ],
          "name": "stdout"
        }
      ]
    },
    {
      "cell_type": "markdown",
      "metadata": {
        "id": "xnjMbakNROuW"
      },
      "source": [
        "相関係数を計算する"
      ]
    },
    {
      "cell_type": "code",
      "metadata": {
        "id": "3X-xX1NJRYGW",
        "colab": {
          "base_uri": "https://localhost:8080/"
        },
        "outputId": "c5155a32-aa05-46f0-ef22-aa0392bf3022"
      },
      "source": [
        "simple_list1 = [1,2,3]\n",
        "simple_list2 = [4,5,6]\n",
        "for x,y in zip(simple_list1,simple_list2):\n",
        "  print(x,y) #x1 y1とそれぞれの対応する要素の対になる"
      ],
      "execution_count": null,
      "outputs": [
        {
          "output_type": "stream",
          "text": [
            "1 4\n",
            "2 5\n",
            "3 6\n"
          ],
          "name": "stdout"
        }
      ]
    },
    {
      "cell_type": "code",
      "metadata": {
        "id": "uSICM_V35iZY"
      },
      "source": [
        "def find_corr_x_y(x,y):\n",
        "  n = len(x) #xの長さ\n",
        "\n",
        "  prod = []\n",
        "  for xi,yi in zip(x,y): #xyの対の数だけ繰り返す\n",
        "    prod.append(xi*yi) #空のprodにxi*yiを入れる\n",
        "  sum_prod_x_y = sum(prod) #xi*yiの和\n",
        "  sum_x = sum(x)\n",
        "  sum_y = sum(y)\n",
        "  squared_sum_x = sum_x**2 #和の２乗\n",
        "  squared_sum_y = sum_y**2\n",
        "\n",
        "  x_square = []\n",
        "  for xi in x:\n",
        "    x_square.append(xi**2) #空のx_squareに各要素の２乗を入れる\n",
        "    x_square_sum = sum(x_square) #各要素の２乗の和\n",
        "  y_square = []\n",
        "  for yi in y:\n",
        "    y_square.append(yi**2)\n",
        "    y_square_sum = sum(y_square)\n",
        "\n",
        "    numerator = n*sum_prod_x_y - sum_x*sum_y #相関係数の式の分子\n",
        "    denominator_term1 = n*x_square_sum - squared_sum_x #分母のルートの中のxの方\n",
        "    denominator_term2 = n*y_square_sum - squared_sum_y #分母のルートの中のyの方\n",
        "    denominator = (denominator_term1*denominator_term2)**0.5 #分母\n",
        "    correlation = numerator/denominator #相関係数\n",
        "\n",
        "  return correlation"
      ],
      "execution_count": null,
      "outputs": []
    },
    {
      "cell_type": "code",
      "metadata": {
        "colab": {
          "base_uri": "https://localhost:8080/"
        },
        "id": "ZyTaJwvjPeOQ",
        "outputId": "e27e40dc-4f53-4388-90aa-5702f3de07dd"
      },
      "source": [
        "x = [1,2,3]\n",
        "y = [4,5,6]\n",
        "\n",
        "find_corr_x_y(x,y)"
      ],
      "execution_count": null,
      "outputs": [
        {
          "output_type": "execute_result",
          "data": {
            "text/plain": [
              "1.0"
            ]
          },
          "metadata": {
            "tags": []
          },
          "execution_count": 32
        }
      ]
    },
    {
      "cell_type": "markdown",
      "metadata": {
        "id": "1u8jtJacNQ-j"
      },
      "source": [
        "散布図"
      ]
    },
    {
      "cell_type": "code",
      "metadata": {
        "colab": {
          "base_uri": "https://localhost:8080/",
          "height": 265
        },
        "id": "QAcD4_l5NSyE",
        "outputId": "d5f3e9ea-fd6d-45dc-fe11-a71043e949d7"
      },
      "source": [
        "x = [1,2,3,4]\n",
        "y = [2,4,6,8]\n",
        "import matplotlib.pyplot as plt\n",
        "plt.scatter(x,y) #sctter()関数で散布図を作る\n",
        "plt.show() #プロットの表示にはshow()"
      ],
      "execution_count": null,
      "outputs": [
        {
          "output_type": "display_data",
          "data": {
            "image/png": "[encoded data removed]",
            "text/plain": [
              "<Figure size 432x288 with 1 Axes>"
            ]
          },
          "metadata": {
            "tags": [],
            "needs_background": "light"
          }
        }
      ]
    },
    {
      "cell_type": "markdown",
      "metadata": {
        "id": "VGMSHmbQPOQf"
      },
      "source": [
        "ファイルからデータを読み込む"
      ]
    },
    {
      "cell_type": "code",
      "metadata": {
        "colab": {
          "base_uri": "https://localhost:8080/"
        },
        "id": "iwi_nm0DPVyb",
        "outputId": "986f0be2-e09d-4645-e1a9-5064d3f9686b"
      },
      "source": [
        "'''\n",
        "ファイルに格納された数の和を求める\n",
        "'''\n",
        "def sum_data(filename):\n",
        "  s = 0\n",
        "  with open(filename) as f: #指定したファイルを開く、fは開いたファイル\n",
        "    for line in f: #ファイル内のデータの数だけ繰り返す\n",
        "      s = s + float(line) #floatでデータを浮動小数点数に変換し、すべての数を足す\n",
        "  print('和は:{0}'.format(s))\n",
        "\n",
        "if __name__ == '__main__':\n",
        "  sum_data('mydata.txt')"
      ],
      "execution_count": null,
      "outputs": [
        {
          "output_type": "stream",
          "text": [
            "和は:5733.0\n"
          ],
          "name": "stdout"
        }
      ]
    },
    {
      "cell_type": "code",
      "metadata": {
        "id": "y68qoTCqNFnu",
        "colab": {
          "base_uri": "https://localhost:8080/"
        },
        "outputId": "deec4df7-935e-4899-9266-ab68b9e7dfb6"
      },
      "source": [
        "'''\n",
        "ファイルに格納された数の平均\n",
        "'''\n",
        "def read_data(filename):\n",
        "    numbers = []\n",
        "    with open(filename) as f: #指定したファイルを開く\n",
        "      for line in f: #データの数だけ繰り返す\n",
        "        numbers.append(float(line)) #numbersに浮動小数点数にしたデータを入れる\n",
        "    return numbers\n",
        "\n",
        "def calculate_mean(numbers): #平均\n",
        "    s=sum(numbers)\n",
        "    N=len(numbers)\n",
        "    mean=s/N\n",
        "    return mean\n",
        "\n",
        "if __name__ == '__main__':\n",
        "    data=read_data('mydata.txt')\n",
        "    mean=calculate_mean(data)\n",
        "    print('平均:{0}'.format(mean))"
      ],
      "execution_count": null,
      "outputs": [
        {
          "output_type": "stream",
          "text": [
            "平均:477.75\n"
          ],
          "name": "stdout"
        }
      ]
    },
    {
      "cell_type": "markdown",
      "metadata": {
        "id": "gYsdqIVyPSxo"
      },
      "source": [
        "CSVファイルからデータを読み込む"
      ]
    },
    {
      "cell_type": "code",
      "metadata": {
        "id": "SF_pBv1NPb5t",
        "colab": {
          "base_uri": "https://localhost:8080/",
          "height": 281
        },
        "outputId": "c2014e8b-6b26-4c71-925e-9f359a82af92"
      },
      "source": [
        "import csv\n",
        "import matplotlib.pyplot as plt\n",
        "\n",
        "def scatter_plot(x,y): #散布図\n",
        "    plt.scatter(x,y)\n",
        "    plt.xlabel('number') #x軸\n",
        "    plt.ylabel('square') #y軸\n",
        "    plt.show()\n",
        "\n",
        "def read_csv(filename):\n",
        "    numbers=[]\n",
        "    squared=[]\n",
        "    with open(filename) as f:\n",
        "      reader = csv.reader(f)\n",
        "      next(reader) #次の行へ\n",
        "      for row in reader:\n",
        "          numbers.append(int(row[0])) #numbersにデータの第１列を入れる\n",
        "          squared.append(int(row[1])) #squaredにデータの第２列を入れる\n",
        "    return numbers,squared\n",
        "\n",
        "if __name__ == '__main__':\n",
        "    numbers,squared = read_csv('numbers.csv')\n",
        "    scatter_plot(numbers,squared)"
      ],
      "execution_count": null,
      "outputs": [
        {
          "output_type": "display_data",
          "data": {
            "image/png": "[encoded data removed]",
            "text/plain": [
              "<Figure size 432x288 with 1 Axes>"
            ]
          },
          "metadata": {
            "tags": [],
            "needs_background": "light"
          }
        }
      ]
    },
    {
      "cell_type": "code",
      "metadata": {
        "id": "QYte1XyhnN4B",
        "colab": {
          "base_uri": "https://localhost:8080/",
          "height": 299
        },
        "outputId": "718105ac-45d2-44e6-f5e4-d4ac381e9881"
      },
      "source": [
        "def read_csv(filename):\n",
        "    with open(filename) as f:\n",
        "        reader = csv.reader(f)\n",
        "        next(reader)\n",
        "\n",
        "        summer = []\n",
        "        highest_correlated = []\n",
        "        for row in reader:\n",
        "          summer.append(float(row[0]))\n",
        "          highest_correlated.append(float(row[1]))\n",
        "    return summer,highest_correlated\n",
        "\n",
        "import matplotlib.pyplot as plt\n",
        "import csv\n",
        "\n",
        "if __name__ == '__main__':\n",
        "    summer,highest_correlated = read_csv('numbers.csv')\n",
        "    corr = find_corr_x_y(summer,highest_correlated)\n",
        "    print('highest correlation:{0}'.format(corr))\n",
        "    scatter_plot(summer,highest_correlated)"
      ],
      "execution_count": null,
      "outputs": [
        {
          "output_type": "stream",
          "text": [
            "highest correlation:0.9996251875470692\n"
          ],
          "name": "stdout"
        },
        {
          "output_type": "display_data",
          "data": {
            "image/png": "[encoded data removed]",
            "text/plain": [
              "<Figure size 432x288 with 1 Axes>"
            ]
          },
          "metadata": {
            "tags": [],
            "needs_background": "light"
          }
        }
      ]
    }
  ]
}