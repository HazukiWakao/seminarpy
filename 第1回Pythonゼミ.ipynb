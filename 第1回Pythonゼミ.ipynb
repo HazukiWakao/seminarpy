{
  "nbformat": 4,
  "nbformat_minor": 0,
  "metadata": {
    "colab": {
      "name": "Python ゼミ0618",
      "provenance": [],
      "collapsed_sections": [
        "Jtywyalp79-0",
        "MDIPUfBQ8fpe",
        "2vhjn2sx82H-",
        "JObjRDA59mFs",
        "r54ETqFyXQ76",
        "zwN3c2jAbPlG",
        "Ax0RIgEFuyPe",
        "3zEdtnmRdub5"
      ],
      "include_colab_link": true
    },
    "kernelspec": {
      "name": "python3",
      "display_name": "Python 3"
    },
    "language_info": {
      "name": "python"
    }
  },
  "cells": [
    {
      "cell_type": "markdown",
      "metadata": {
        "id": "view-in-github",
        "colab_type": "text"
      },
      "source": [
        "<a href=\"https://colab.research.google.com/github/HazukiWakao/seminarpy/blob/main/Python_%E3%82%BC%E3%83%9F0618.ipynb\" target=\"_parent\"><img src=\"https://colab.research.google.com/assets/colab-badge.svg\" alt=\"Open In Colab\"/></a>"
      ]
    },
    {
      "cell_type": "markdown",
      "metadata": {
        "id": "Jtywyalp79-0"
      },
      "source": [
        "### **演算子**"
      ]
    },
    {
      "cell_type": "code",
      "metadata": {
        "id": "TRRsHWH86_X7",
        "colab": {
          "base_uri": "https://localhost:8080/"
        },
        "outputId": "868677b0-e565-4795-c43e-c337b3e66d3c"
      },
      "source": [
        "1+2 #足し算\n"
      ],
      "execution_count": null,
      "outputs": [
        {
          "output_type": "execute_result",
          "data": {
            "text/plain": [
              "3"
            ]
          },
          "metadata": {
            "tags": []
          },
          "execution_count": 1
        }
      ]
    },
    {
      "cell_type": "code",
      "metadata": {
        "id": "-tYkF3RO7VyV",
        "colab": {
          "base_uri": "https://localhost:8080/"
        },
        "outputId": "9353fdc9-536c-4dcf-f74b-ad79d16fdd28"
      },
      "source": [
        "1-2 #引き算\n"
      ],
      "execution_count": null,
      "outputs": [
        {
          "output_type": "execute_result",
          "data": {
            "text/plain": [
              "-1"
            ]
          },
          "metadata": {
            "tags": []
          },
          "execution_count": 2
        }
      ]
    },
    {
      "cell_type": "code",
      "metadata": {
        "id": "VVGLajtV7EFe",
        "colab": {
          "base_uri": "https://localhost:8080/"
        },
        "outputId": "02fcae16-3572-4c64-eb0d-5ec1377198b1"
      },
      "source": [
        "2*3#掛け算"
      ],
      "execution_count": null,
      "outputs": [
        {
          "output_type": "execute_result",
          "data": {
            "text/plain": [
              "6"
            ]
          },
          "metadata": {
            "tags": []
          },
          "execution_count": 3
        }
      ]
    },
    {
      "cell_type": "code",
      "metadata": {
        "id": "VxRgPxm77FM0",
        "colab": {
          "base_uri": "https://localhost:8080/"
        },
        "outputId": "10d8f22c-f1b0-4e04-b5c3-ea11cde1fa19"
      },
      "source": [
        "3/2 #割り算"
      ],
      "execution_count": null,
      "outputs": [
        {
          "output_type": "execute_result",
          "data": {
            "text/plain": [
              "1.5"
            ]
          },
          "metadata": {
            "tags": []
          },
          "execution_count": 4
        }
      ]
    },
    {
      "cell_type": "code",
      "metadata": {
        "id": "Bw6nivGz7iXE",
        "colab": {
          "base_uri": "https://localhost:8080/"
        },
        "outputId": "c008959e-e683-471c-94db-c3108aa12d1d"
      },
      "source": [
        "3//2 #整数部分"
      ],
      "execution_count": null,
      "outputs": [
        {
          "output_type": "execute_result",
          "data": {
            "text/plain": [
              "1"
            ]
          },
          "metadata": {
            "tags": []
          },
          "execution_count": 5
        }
      ]
    },
    {
      "cell_type": "code",
      "metadata": {
        "id": "ZHSL_TAO7nFk",
        "colab": {
          "base_uri": "https://localhost:8080/"
        },
        "outputId": "3552b005-5368-4f18-d946-f02315db376d"
      },
      "source": [
        "-3//2"
      ],
      "execution_count": null,
      "outputs": [
        {
          "output_type": "execute_result",
          "data": {
            "text/plain": [
              "-2"
            ]
          },
          "metadata": {
            "tags": []
          },
          "execution_count": 6
        }
      ]
    },
    {
      "cell_type": "code",
      "metadata": {
        "id": "O5PW_6VM7rcI",
        "colab": {
          "base_uri": "https://localhost:8080/"
        },
        "outputId": "5a16458a-00c6-44a6-9c4a-33df496e7ee4"
      },
      "source": [
        "9%4 #余り(mod)"
      ],
      "execution_count": null,
      "outputs": [
        {
          "output_type": "execute_result",
          "data": {
            "text/plain": [
              "1"
            ]
          },
          "metadata": {
            "tags": []
          },
          "execution_count": 7
        }
      ]
    },
    {
      "cell_type": "code",
      "metadata": {
        "id": "6TxuwpFR7yAe",
        "colab": {
          "base_uri": "https://localhost:8080/"
        },
        "outputId": "5ee80cd2-3a17-410a-8a50-6aa31330563f"
      },
      "source": [
        "8**(1/3) #立方根"
      ],
      "execution_count": null,
      "outputs": [
        {
          "output_type": "execute_result",
          "data": {
            "text/plain": [
              "2.0"
            ]
          },
          "metadata": {
            "tags": []
          },
          "execution_count": 9
        }
      ]
    },
    {
      "cell_type": "markdown",
      "metadata": {
        "id": "iUyanAn88DOL"
      },
      "source": [
        "変数（ラベル）に名前を付ける"
      ]
    },
    {
      "cell_type": "code",
      "metadata": {
        "id": "RJIbyZhJ8F3T",
        "colab": {
          "base_uri": "https://localhost:8080/"
        },
        "outputId": "57f3065e-7d4c-420d-e628-751244af62e7"
      },
      "source": [
        "a = 3\n",
        "a = a +1\n",
        "a"
      ],
      "execution_count": null,
      "outputs": [
        {
          "output_type": "execute_result",
          "data": {
            "text/plain": [
              "4"
            ]
          },
          "metadata": {
            "tags": []
          },
          "execution_count": 15
        }
      ]
    },
    {
      "cell_type": "code",
      "metadata": {
        "id": "P2FjWrTJ8bFi"
      },
      "source": [
        ""
      ],
      "execution_count": null,
      "outputs": []
    },
    {
      "cell_type": "markdown",
      "metadata": {
        "id": "MDIPUfBQ8fpe"
      },
      "source": [
        "### **種類の数**"
      ]
    },
    {
      "cell_type": "code",
      "metadata": {
        "id": "_xas0IIR8iPD",
        "colab": {
          "base_uri": "https://localhost:8080/"
        },
        "outputId": "0d5e6e58-54c4-46c6-f27c-ec524b7a3c1a"
      },
      "source": [
        "type(3) #整数"
      ],
      "execution_count": null,
      "outputs": [
        {
          "output_type": "execute_result",
          "data": {
            "text/plain": [
              "int"
            ]
          },
          "metadata": {
            "tags": []
          },
          "execution_count": 16
        }
      ]
    },
    {
      "cell_type": "code",
      "metadata": {
        "id": "auTlZpqi8kot",
        "colab": {
          "base_uri": "https://localhost:8080/"
        },
        "outputId": "29ac682b-0bd4-459b-8726-308e79164420"
      },
      "source": [
        "type(3.5) #浮動点小数"
      ],
      "execution_count": null,
      "outputs": [
        {
          "output_type": "execute_result",
          "data": {
            "text/plain": [
              "float"
            ]
          },
          "metadata": {
            "tags": []
          },
          "execution_count": 17
        }
      ]
    },
    {
      "cell_type": "code",
      "metadata": {
        "id": "sNIQLPc98ooZ",
        "colab": {
          "base_uri": "https://localhost:8080/"
        },
        "outputId": "f2536117-6115-4f9b-d2b2-8ef23aeb78f0"
      },
      "source": [
        "type(3.0) #浮動点小数になる"
      ],
      "execution_count": null,
      "outputs": [
        {
          "output_type": "execute_result",
          "data": {
            "text/plain": [
              "float"
            ]
          },
          "metadata": {
            "tags": []
          },
          "execution_count": 21
        }
      ]
    },
    {
      "cell_type": "code",
      "metadata": {
        "id": "oGkCVZnrXyYc",
        "colab": {
          "base_uri": "https://localhost:8080/"
        },
        "outputId": "5a435010-d761-43e6-97a0-6f33e47b55c2"
      },
      "source": [
        "int(3.8) #整数"
      ],
      "execution_count": null,
      "outputs": [
        {
          "output_type": "execute_result",
          "data": {
            "text/plain": [
              "3"
            ]
          },
          "metadata": {
            "tags": []
          },
          "execution_count": 22
        }
      ]
    },
    {
      "cell_type": "code",
      "metadata": {
        "id": "GybuVd0OX3VQ",
        "colab": {
          "base_uri": "https://localhost:8080/"
        },
        "outputId": "aa26350a-83b8-4b52-aa3b-7feb13c82036"
      },
      "source": [
        "float(3)"
      ],
      "execution_count": null,
      "outputs": [
        {
          "output_type": "execute_result",
          "data": {
            "text/plain": [
              "3.0"
            ]
          },
          "metadata": {
            "tags": []
          },
          "execution_count": 23
        }
      ]
    },
    {
      "cell_type": "markdown",
      "metadata": {
        "id": "2vhjn2sx82H-"
      },
      "source": [
        "### **分数を扱う（モジュールを入れる）**\n"
      ]
    },
    {
      "cell_type": "code",
      "metadata": {
        "id": "zV9hVAPS86gp"
      },
      "source": [
        "from fractions import Fraction #モジュールをいれる"
      ],
      "execution_count": null,
      "outputs": []
    },
    {
      "cell_type": "code",
      "metadata": {
        "id": "9sVzsiFG9CGE",
        "colab": {
          "base_uri": "https://localhost:8080/"
        },
        "outputId": "5194dc5d-5f0c-4909-f714-1b2ead526fe0"
      },
      "source": [
        "f = Fraction(3,4) #(分子/分母)\n",
        "f"
      ],
      "execution_count": null,
      "outputs": [
        {
          "output_type": "execute_result",
          "data": {
            "text/plain": [
              "Fraction(3, 4)"
            ]
          },
          "metadata": {
            "tags": []
          },
          "execution_count": 25
        }
      ]
    },
    {
      "cell_type": "code",
      "metadata": {
        "id": "7Unj2Ke_9TeP",
        "colab": {
          "base_uri": "https://localhost:8080/"
        },
        "outputId": "7fe2de42-8f17-4f57-8e8f-d6c18ba63b88"
      },
      "source": [
        "Fraction(3,4)+1+1.5 #式に浮動点小数があると結果は浮動点小数"
      ],
      "execution_count": null,
      "outputs": [
        {
          "output_type": "execute_result",
          "data": {
            "text/plain": [
              "3.25"
            ]
          },
          "metadata": {
            "tags": []
          },
          "execution_count": 27
        }
      ]
    },
    {
      "cell_type": "code",
      "metadata": {
        "id": "yDsisopC9cwQ",
        "colab": {
          "base_uri": "https://localhost:8080/"
        },
        "outputId": "aeb6561f-ee38-47b0-fbdd-626c391b3c65"
      },
      "source": [
        "Fraction(3,4)+1+Fraction(1/4)"
      ],
      "execution_count": null,
      "outputs": [
        {
          "output_type": "execute_result",
          "data": {
            "text/plain": [
              "Fraction(2, 1)"
            ]
          },
          "metadata": {
            "tags": []
          },
          "execution_count": 28
        }
      ]
    },
    {
      "cell_type": "markdown",
      "metadata": {
        "id": "JObjRDA59mFs"
      },
      "source": [
        "### **複素数**"
      ]
    },
    {
      "cell_type": "code",
      "metadata": {
        "colab": {
          "base_uri": "https://localhost:8080/"
        },
        "id": "r-JaBQ9x9loJ",
        "outputId": "e9c897fc-1ecf-4a35-af16-b04922649370"
      },
      "source": [
        "a = 2+ 3j #虚数単位はj\n",
        "type(a)"
      ],
      "execution_count": null,
      "outputs": [
        {
          "output_type": "execute_result",
          "data": {
            "text/plain": [
              "complex"
            ]
          },
          "metadata": {
            "tags": []
          },
          "execution_count": 36
        }
      ]
    },
    {
      "cell_type": "code",
      "metadata": {
        "colab": {
          "base_uri": "https://localhost:8080/"
        },
        "id": "BGgn7_64FTf-",
        "outputId": "bcc5d558-7084-48f2-8f76-b3c720494894"
      },
      "source": [
        "a"
      ],
      "execution_count": null,
      "outputs": [
        {
          "output_type": "execute_result",
          "data": {
            "text/plain": [
              "(2+3j)"
            ]
          },
          "metadata": {
            "tags": []
          },
          "execution_count": 33
        }
      ]
    },
    {
      "cell_type": "code",
      "metadata": {
        "colab": {
          "base_uri": "https://localhost:8080/"
        },
        "id": "B6a4oaos9z29",
        "outputId": "ed2b7892-19ea-4d5c-cb0f-64bae92bb677"
      },
      "source": [
        "a = complex(4,3)\n",
        "a"
      ],
      "execution_count": null,
      "outputs": [
        {
          "output_type": "execute_result",
          "data": {
            "text/plain": [
              "(4+3j)"
            ]
          },
          "metadata": {
            "tags": []
          },
          "execution_count": 34
        }
      ]
    },
    {
      "cell_type": "code",
      "metadata": {
        "colab": {
          "base_uri": "https://localhost:8080/"
        },
        "id": "61Aw7n3D94KV",
        "outputId": "8f2ff244-44c4-4e4c-e904-a07065eca24d"
      },
      "source": [
        "b = 3 + 3j\n",
        "a + b"
      ],
      "execution_count": null,
      "outputs": [
        {
          "output_type": "execute_result",
          "data": {
            "text/plain": [
              "(5+6j)"
            ]
          },
          "metadata": {
            "tags": []
          },
          "execution_count": 38
        }
      ]
    },
    {
      "cell_type": "code",
      "metadata": {
        "colab": {
          "base_uri": "https://localhost:8080/"
        },
        "id": "lYN5mBjX991g",
        "outputId": "06e05e24-bb06-47bd-dd63-f3edfc227d0f"
      },
      "source": [
        "a*b #zの積"
      ],
      "execution_count": null,
      "outputs": [
        {
          "output_type": "execute_result",
          "data": {
            "text/plain": [
              "(-3+15j)"
            ]
          },
          "metadata": {
            "tags": []
          },
          "execution_count": 39
        }
      ]
    },
    {
      "cell_type": "code",
      "metadata": {
        "id": "XhbUY3aM-Aao"
      },
      "source": [
        "z = 2+3j"
      ],
      "execution_count": null,
      "outputs": []
    },
    {
      "cell_type": "code",
      "metadata": {
        "colab": {
          "base_uri": "https://localhost:8080/"
        },
        "id": "Qn0N0O-N-IY6",
        "outputId": "67d1aa80-c395-4729-cdc8-92415f59626b"
      },
      "source": [
        "z.real #zの実部"
      ],
      "execution_count": null,
      "outputs": [
        {
          "output_type": "execute_result",
          "data": {
            "text/plain": [
              "2.0"
            ]
          },
          "metadata": {
            "tags": []
          },
          "execution_count": 43
        }
      ]
    },
    {
      "cell_type": "code",
      "metadata": {
        "colab": {
          "base_uri": "https://localhost:8080/"
        },
        "id": "Y1QQMWc5-KVr",
        "outputId": "f13e5cb9-26c3-4e12-8358-700745e71654"
      },
      "source": [
        "z.imag #zの虚部"
      ],
      "execution_count": null,
      "outputs": [
        {
          "output_type": "execute_result",
          "data": {
            "text/plain": [
              "3.0"
            ]
          },
          "metadata": {
            "tags": []
          },
          "execution_count": 44
        }
      ]
    },
    {
      "cell_type": "code",
      "metadata": {
        "colab": {
          "base_uri": "https://localhost:8080/"
        },
        "id": "S-nfT83t-UGh",
        "outputId": "43719b64-8471-494e-9c7e-cc8079e2319d"
      },
      "source": [
        "z.conjugate() #zの共役"
      ],
      "execution_count": null,
      "outputs": [
        {
          "output_type": "execute_result",
          "data": {
            "text/plain": [
              "(2-3j)"
            ]
          },
          "metadata": {
            "tags": []
          },
          "execution_count": 45
        }
      ]
    },
    {
      "cell_type": "code",
      "metadata": {
        "colab": {
          "base_uri": "https://localhost:8080/"
        },
        "id": "NeYQyMCT-cuw",
        "outputId": "af41a92b-c33e-41d8-d696-7d23322010df"
      },
      "source": [
        "(z.real**2+z.imag**2)**0.5"
      ],
      "execution_count": null,
      "outputs": [
        {
          "output_type": "execute_result",
          "data": {
            "text/plain": [
              "3.605551275463989"
            ]
          },
          "metadata": {
            "tags": []
          },
          "execution_count": 46
        }
      ]
    },
    {
      "cell_type": "code",
      "metadata": {
        "colab": {
          "base_uri": "https://localhost:8080/"
        },
        "id": "LW1dtc---s6n",
        "outputId": "1e60f620-229e-4cd8-e351-e11991885228"
      },
      "source": [
        "abs(z) #絶対値"
      ],
      "execution_count": null,
      "outputs": [
        {
          "output_type": "execute_result",
          "data": {
            "text/plain": [
              "3.605551275463989"
            ]
          },
          "metadata": {
            "tags": []
          },
          "execution_count": 47
        }
      ]
    },
    {
      "cell_type": "markdown",
      "metadata": {
        "id": "r54ETqFyXQ76"
      },
      "source": [
        "### **ユーザー入力を受け取る**"
      ]
    },
    {
      "cell_type": "code",
      "metadata": {
        "id": "PRKwE5Fs_Hq3",
        "colab": {
          "base_uri": "https://localhost:8080/"
        },
        "outputId": "1b293fc7-e5b9-49a5-cf78-6cf3bbb48a76"
      },
      "source": [
        "a = input() #input関数を呼び出し、数を入力することであたいが入る"
      ],
      "execution_count": null,
      "outputs": [
        {
          "output_type": "stream",
          "text": [
            "2.5\n"
          ],
          "name": "stdout"
        }
      ]
    },
    {
      "cell_type": "code",
      "metadata": {
        "id": "iX645MXe_htH",
        "colab": {
          "base_uri": "https://localhost:8080/",
          "height": 36
        },
        "outputId": "07ad485a-e6a1-41f5-b26d-247474baa499"
      },
      "source": [
        "a #input関数は文字列で返される"
      ],
      "execution_count": null,
      "outputs": [
        {
          "output_type": "execute_result",
          "data": {
            "application/vnd.google.colaboratory.intrinsic+json": {
              "type": "string"
            },
            "text/plain": [
              "'2.5'"
            ]
          },
          "metadata": {
            "tags": []
          },
          "execution_count": 58
        }
      ]
    },
    {
      "cell_type": "code",
      "metadata": {
        "id": "yEBnHQFt_mH5",
        "colab": {
          "base_uri": "https://localhost:8080/",
          "height": 173
        },
        "outputId": "8334f7ae-b77e-4e5b-8a74-9487153e5756"
      },
      "source": [
        "a +1 #エラーになる"
      ],
      "execution_count": null,
      "outputs": [
        {
          "output_type": "error",
          "ename": "TypeError",
          "evalue": "ignored",
          "traceback": [
            "\u001b[0;31m---------------------------------------------------------------------------\u001b[0m",
            "\u001b[0;31mTypeError\u001b[0m                                 Traceback (most recent call last)",
            "\u001b[0;32m<ipython-input-55-1d016ba42472>\u001b[0m in \u001b[0;36m<module>\u001b[0;34m()\u001b[0m\n\u001b[0;32m----> 1\u001b[0;31m \u001b[0ma\u001b[0m \u001b[0;34m+\u001b[0m\u001b[0;36m1\u001b[0m \u001b[0;31m#エラーになる\u001b[0m\u001b[0;34m\u001b[0m\u001b[0;34m\u001b[0m\u001b[0m\n\u001b[0m",
            "\u001b[0;31mTypeError\u001b[0m: can only concatenate str (not \"int\") to str"
          ]
        }
      ]
    },
    {
      "cell_type": "code",
      "metadata": {
        "id": "Bx-xc6dP_qJl",
        "colab": {
          "base_uri": "https://localhost:8080/",
          "height": 173
        },
        "outputId": "97a9385f-24aa-49bb-d8b3-7cf234ee283a"
      },
      "source": [
        "int(a)+1"
      ],
      "execution_count": null,
      "outputs": [
        {
          "output_type": "error",
          "ename": "ValueError",
          "evalue": "ignored",
          "traceback": [
            "\u001b[0;31m---------------------------------------------------------------------------\u001b[0m",
            "\u001b[0;31mValueError\u001b[0m                                Traceback (most recent call last)",
            "\u001b[0;32m<ipython-input-59-0f6a33d00656>\u001b[0m in \u001b[0;36m<module>\u001b[0;34m()\u001b[0m\n\u001b[0;32m----> 1\u001b[0;31m \u001b[0mint\u001b[0m\u001b[0;34m(\u001b[0m\u001b[0ma\u001b[0m\u001b[0;34m)\u001b[0m\u001b[0;34m+\u001b[0m\u001b[0;36m1\u001b[0m\u001b[0;34m\u001b[0m\u001b[0;34m\u001b[0m\u001b[0m\n\u001b[0m",
            "\u001b[0;31mValueError\u001b[0m: invalid literal for int() with base 10: '2.5'"
          ]
        }
      ]
    },
    {
      "cell_type": "code",
      "metadata": {
        "id": "NvWE06SI_-SX"
      },
      "source": [
        "int(\"2.0\") #int()は浮動点数の小数点を含む文字列は整数に変換できない。エラーが出る"
      ],
      "execution_count": null,
      "outputs": []
    },
    {
      "cell_type": "code",
      "metadata": {
        "id": "Uq2jSr7tAXdg"
      },
      "source": [
        "a = float(input()) #分数をいれるとエラー"
      ],
      "execution_count": null,
      "outputs": []
    },
    {
      "cell_type": "markdown",
      "metadata": {
        "id": "Z9KGDLLeao-S"
      },
      "source": [
        "### **例外と不当入力の処理**"
      ]
    },
    {
      "cell_type": "code",
      "metadata": {
        "id": "-ds4PFuIAdWo"
      },
      "source": [
        "try:\n",
        "    a = float(input('Enter a number:'))\n",
        "except ValieError:\n",
        "    print('You entered an invalid number')"
      ],
      "execution_count": null,
      "outputs": []
    },
    {
      "cell_type": "code",
      "metadata": {
        "id": "lzzEtvKGCCWW"
      },
      "source": [
        "1.1.is_integer()"
      ],
      "execution_count": null,
      "outputs": []
    },
    {
      "cell_type": "code",
      "metadata": {
        "id": "49wXiYXuCJxc"
      },
      "source": [
        "1.0.is_integer()"
      ],
      "execution_count": null,
      "outputs": []
    },
    {
      "cell_type": "markdown",
      "metadata": {
        "id": "zwN3c2jAbPlG"
      },
      "source": [
        "### 数学を行うプログラムを書く\n",
        "### **整数の因数を計算する ** "
      ]
    },
    {
      "cell_type": "code",
      "metadata": {
        "id": "qPKFg28zbakt"
      },
      "source": [
        "def is_factor(a,b): #aはbの因数\n",
        "    if b % a == 0:\n",
        "      return True\n",
        "    else:\n",
        "      return False"
      ],
      "execution_count": null,
      "outputs": []
    },
    {
      "cell_type": "code",
      "metadata": {
        "id": "skHMQWdYbBYl",
        "colab": {
          "base_uri": "https://localhost:8080/"
        },
        "outputId": "a4b93b28-d0a8-47cd-a620-70896356b7b3"
      },
      "source": [
        "is_factor(4,1024)"
      ],
      "execution_count": null,
      "outputs": [
        {
          "output_type": "execute_result",
          "data": {
            "text/plain": [
              "True"
            ]
          },
          "metadata": {
            "tags": []
          },
          "execution_count": 61
        }
      ]
    },
    {
      "cell_type": "code",
      "metadata": {
        "id": "D7d-kJEsdxWB",
        "colab": {
          "base_uri": "https://localhost:8080/"
        },
        "outputId": "bedd9077-0533-4c15-dc15-07eb1d845023"
      },
      "source": [
        "for i in range(1,4): #ループ(pythonはひとつまえまで)\n",
        "  print(i)"
      ],
      "execution_count": null,
      "outputs": [
        {
          "output_type": "stream",
          "text": [
            "1\n",
            "2\n",
            "3\n"
          ],
          "name": "stdout"
        }
      ]
    },
    {
      "cell_type": "code",
      "metadata": {
        "id": "TzT9KI6xkxmz",
        "colab": {
          "base_uri": "https://localhost:8080/"
        },
        "outputId": "e53c41fd-0618-44aa-f844-ceabe3a5aec3"
      },
      "source": [
        "for i in range(1,10,2):#1個とばし\n",
        " print(i)"
      ],
      "execution_count": null,
      "outputs": [
        {
          "output_type": "stream",
          "text": [
            "1\n",
            "3\n",
            "5\n",
            "7\n",
            "9\n"
          ],
          "name": "stdout"
        }
      ]
    },
    {
      "cell_type": "code",
      "metadata": {
        "id": "dImpJrZzk--n"
      },
      "source": [
        " def factors(b):\n",
        "   for i in range(1,b+1):\n",
        "     if b % i == 0:\n",
        "       print(i)"
      ],
      "execution_count": null,
      "outputs": []
    },
    {
      "cell_type": "code",
      "metadata": {
        "id": "0tuUpOMepYOj",
        "colab": {
          "base_uri": "https://localhost:8080/"
        },
        "outputId": "ac7e155c-7cec-4930-fd67-0d300c27373b"
      },
      "source": [
        "b = input('You Number Please: ')\n",
        "b = float(b)\n",
        "if b > 0 and b.is_integer():\n",
        "   factors(int(b))\n",
        "else:\n",
        "  print('Please enter a positive integer')"
      ],
      "execution_count": null,
      "outputs": [
        {
          "output_type": "stream",
          "text": [
            "You Number Please: 10\n",
            "1\n",
            "2\n",
            "5\n",
            "10\n"
          ],
          "name": "stdout"
        }
      ]
    },
    {
      "cell_type": "code",
      "metadata": {
        "id": "ikJEnXtEpWw4"
      },
      "source": [
        ""
      ],
      "execution_count": null,
      "outputs": []
    },
    {
      "cell_type": "markdown",
      "metadata": {
        "id": "Ax0RIgEFuyPe"
      },
      "source": [
        "### **乗算表を生成する**"
      ]
    },
    {
      "cell_type": "code",
      "metadata": {
        "id": "vqzvVhEAu9iA",
        "colab": {
          "base_uri": "https://localhost:8080/"
        },
        "outputId": "e504da71-29d2-4c5d-b452-469cb3b2d198"
      },
      "source": [
        "item1 = 'apples'#ラベル１が{0}\n",
        "item2 = 'bananas'#ラベル２が{1}\n",
        "item3 = 'grapes'#ラベル3が{2}\n",
        "print('At the grocery store, I bought some {0} and {1} and {2}'.format(item1,item2,item3))"
      ],
      "execution_count": null,
      "outputs": [
        {
          "output_type": "stream",
          "text": [
            "At the grocery store, I bought some apples and bananas and grapes\n"
          ],
          "name": "stdout"
        }
      ]
    },
    {
      "cell_type": "code",
      "metadata": {
        "id": "OQrJRl4Tv6LF",
        "colab": {
          "base_uri": "https://localhost:8080/"
        },
        "outputId": "9a1a7cd8-3e35-47fb-a007-bb85ef8c1dcc"
      },
      "source": [
        "print('Number1:{0} Number 2:{1}'.format(1,3.578))"
      ],
      "execution_count": null,
      "outputs": [
        {
          "output_type": "stream",
          "text": [
            "Number1:1 Number 2:3.578\n"
          ],
          "name": "stdout"
        }
      ]
    },
    {
      "cell_type": "code",
      "metadata": {
        "id": "UATvs2dPwOya"
      },
      "source": [
        "def multi_table(a):\n",
        "  for i in range(1,11):\n",
        "    print('{0} x {1} = {2}'.format(a,i,a*i)) #formatを利用すると見やすく表にしてくれる"
      ],
      "execution_count": null,
      "outputs": []
    },
    {
      "cell_type": "code",
      "metadata": {
        "id": "ARRViCx6wjet",
        "colab": {
          "base_uri": "https://localhost:8080/"
        },
        "outputId": "41b227fe-6676-4c66-ef19-d5e7ed0b7eb0"
      },
      "source": [
        "a = input('Enter a number: ')\n",
        "multi_table(int(a))"
      ],
      "execution_count": null,
      "outputs": [
        {
          "output_type": "stream",
          "text": [
            "Enter a number: 5\n",
            "5 x 1 = 5\n",
            "5 x 2 = 10\n",
            "5 x 3 = 15\n",
            "5 x 4 = 20\n",
            "5 x 5 = 25\n",
            "5 x 6 = 30\n",
            "5 x 7 = 35\n",
            "5 x 8 = 40\n",
            "5 x 9 = 45\n",
            "5 x 10 = 50\n"
          ],
          "name": "stdout"
        }
      ]
    },
    {
      "cell_type": "markdown",
      "metadata": {
        "id": "3zEdtnmRdub5"
      },
      "source": [
        "### **2次方程式の解を求める**"
      ]
    },
    {
      "cell_type": "code",
      "metadata": {
        "id": "pGsDG8tId_2B",
        "colab": {
          "base_uri": "https://localhost:8080/"
        },
        "outputId": "9aedbba9-a4d5-43b3-b033-ae9bc8cd6bf1"
      },
      "source": [
        "x = 10 -500 +79 #x+500-79=10の方程式を移項\n",
        "x"
      ],
      "execution_count": null,
      "outputs": [
        {
          "output_type": "execute_result",
          "data": {
            "text/plain": [
              "-411"
            ]
          },
          "metadata": {
            "tags": []
          },
          "execution_count": 78
        }
      ]
    },
    {
      "cell_type": "code",
      "metadata": {
        "id": "phhnCxH2h7Re"
      },
      "source": [
        ""
      ],
      "execution_count": null,
      "outputs": []
    },
    {
      "cell_type": "code",
      "metadata": {
        "id": "WHxXOtH1iVIx",
        "colab": {
          "base_uri": "https://localhost:8080/"
        },
        "outputId": "b7b7459f-101f-4026-c86e-ec628a73b6fc"
      },
      "source": [
        "a = 1 #x^2+2x+1=0の方程式\n",
        "b = 2\n",
        "c = 1\n",
        "D = (b**2-4*a*c)**0.5 #解の公式の√部分\n",
        "x_1 = (-b + D)/(2*a)\n",
        "x_2 = (-b - D)/(2*a)\n",
        "x_1,x_2"
      ],
      "execution_count": null,
      "outputs": [
        {
          "output_type": "execute_result",
          "data": {
            "text/plain": [
              "(-1.0, -1.0)"
            ]
          },
          "metadata": {
            "tags": []
          },
          "execution_count": 79
        }
      ]
    },
    {
      "cell_type": "code",
      "metadata": {
        "id": "FO8Q8fOvllb3"
      },
      "source": [
        "def roots(a,b,c):\n",
        "    D =(b**2 -4*a*c)**0.5\n",
        "    x_1 = (-b + D)/(2*a)\n",
        "    x_2 = (-b - D)/(2*a)\n",
        "    print('x1: {0}'.format(x_1))\n",
        "    print('x2: {0}'.format(x_2))"
      ],
      "execution_count": null,
      "outputs": []
    },
    {
      "cell_type": "code",
      "metadata": {
        "id": "AE7ZpNf3mAnc",
        "colab": {
          "base_uri": "https://localhost:8080/"
        },
        "outputId": "dc59a8e3-91f2-44f1-a33c-fca745adecc7"
      },
      "source": [
        "a = input('Enter a: ')\n",
        "b = input('Enter b: ')\n",
        "c = input('Enter c: ')\n",
        "roots(float(a), float(b), float(c))"
      ],
      "execution_count": null,
      "outputs": [
        {
          "output_type": "stream",
          "text": [
            "Enter a: 1\n",
            "Enter b: 2\n",
            "Enter c: 9\n",
            "x1: (-0.9999999999999998+2.8284271247461903j)\n",
            "x2: (-1.0000000000000002-2.8284271247461903j)\n"
          ],
          "name": "stdout"
        }
      ]
    },
    {
      "cell_type": "markdown",
      "metadata": {
        "id": "OR20nURLpJrX"
      },
      "source": [
        "### **教材を見やすくしてみた**"
      ]
    },
    {
      "cell_type": "code",
      "metadata": {
        "id": "IQtRbKm2pIlQ"
      },
      "source": [
        "#約数を列挙する(いじらない)\n",
        "def divisors_list(num):\n",
        "    divisors = []\n",
        "    for i in range(1, num+1):\n",
        "        if num % i == 0:\n",
        "            divisors.append(i)\n",
        "    return divisors"
      ],
      "execution_count": null,
      "outputs": []
    },
    {
      "cell_type": "code",
      "metadata": {
        "id": "ZYZMsNFBpQVV"
      },
      "source": [
        "#完全数を出してくれる（いじらない）\n",
        "def perfect_number(num):\n",
        "    perfect = []\n",
        "    for i in range(1, num+1):\n",
        "        if sum(divisors_list(i))-2*i == 0:\n",
        "           perfect.append(i)\n",
        "    return perfect "
      ],
      "execution_count": null,
      "outputs": []
    },
    {
      "cell_type": "code",
      "metadata": {
        "id": "jmGwLgTEpUP-"
      },
      "source": [
        "#素因数分解電卓の定義（いじらない）\n",
        "def prime_factorization(num):\n",
        "    factor =[]\n",
        "\n",
        "    i=2\n",
        "    while num >= i:\n",
        "        if(num % i == 0):\n",
        "            num /= i\n",
        "            factor.append(i)\n",
        "            i = 1\n",
        "        i+=1\n",
        "    return factor"
      ],
      "execution_count": null,
      "outputs": []
    },
    {
      "cell_type": "code",
      "metadata": {
        "id": "1sAPjECspVVY",
        "colab": {
          "base_uri": "https://localhost:8080/"
        },
        "outputId": "2682e7bd-3bbb-43f2-d402-67d7cd9e9fbf"
      },
      "source": [
        "#約数関数（rangeの範囲を変えるとその範囲内の数とその約数の和が表示される）\n",
        "for num in range(1,20):\n",
        "  print(num,sum(divisors_list(num)))"
      ],
      "execution_count": null,
      "outputs": [
        {
          "output_type": "stream",
          "text": [
            "1 1\n",
            "2 3\n",
            "3 4\n",
            "4 7\n",
            "5 6\n",
            "6 12\n",
            "7 8\n",
            "8 15\n",
            "9 13\n",
            "10 18\n",
            "11 12\n",
            "12 28\n",
            "13 14\n",
            "14 24\n",
            "15 24\n",
            "16 31\n",
            "17 18\n",
            "18 39\n",
            "19 20\n"
          ],
          "name": "stdout"
        }
      ]
    },
    {
      "cell_type": "code",
      "metadata": {
        "id": "YcwwfmRgpaKE",
        "colab": {
          "base_uri": "https://localhost:8080/"
        },
        "outputId": "95efb6b6-7e7a-4250-ca79-671e4d820215"
      },
      "source": [
        "print('n | 約数の総和')\n",
        "for num in range(1,20):\n",
        "  print('{0} | {1}'.format(num,sum(divisors_list(num))))"
      ],
      "execution_count": null,
      "outputs": [
        {
          "output_type": "stream",
          "text": [
            "n | 約数の総和\n",
            "1 | 1\n",
            "2 | 3\n",
            "3 | 4\n",
            "4 | 7\n",
            "5 | 6\n",
            "6 | 12\n",
            "7 | 8\n",
            "8 | 15\n",
            "9 | 13\n",
            "10 | 18\n",
            "11 | 12\n",
            "12 | 28\n",
            "13 | 14\n",
            "14 | 24\n",
            "15 | 24\n",
            "16 | 31\n",
            "17 | 18\n",
            "18 | 39\n",
            "19 | 20\n"
          ],
          "name": "stdout"
        }
      ]
    },
    {
      "cell_type": "code",
      "metadata": {
        "id": "8kw5OWWhq9V_",
        "colab": {
          "base_uri": "https://localhost:8080/"
        },
        "outputId": "584c705c-0e09-4610-8ce8-1db100550f25"
      },
      "source": [
        "  #完全数電卓(数字を変えるとその数までの完全数を出してくれる)\n",
        "  print(perfect_number(100))"
      ],
      "execution_count": null,
      "outputs": [
        {
          "output_type": "stream",
          "text": [
            "[6, 28]\n"
          ],
          "name": "stdout"
        }
      ]
    },
    {
      "cell_type": "code",
      "metadata": {
        "id": "zOL5UcMLrHGe",
        "colab": {
          "base_uri": "https://localhost:8080/"
        },
        "outputId": "0d9f5ef5-c8af-4be2-ab3a-ddd7278e3cf5"
      },
      "source": [
        "a = input('aまでの完全数')\n",
        "print(perfect_number(int(a)))"
      ],
      "execution_count": null,
      "outputs": [
        {
          "output_type": "stream",
          "text": [
            "aまでの完全数100\n",
            "[6, 28]\n"
          ],
          "name": "stdout"
        }
      ]
    },
    {
      "cell_type": "code",
      "metadata": {
        "id": "S9Z-y3XlryK_"
      },
      "source": [
        " #素因数分解電卓\n",
        "print(prime_factorization(12))"
      ],
      "execution_count": null,
      "outputs": []
    },
    {
      "cell_type": "code",
      "metadata": {
        "id": "Z3fAQxIyr3r7",
        "colab": {
          "base_uri": "https://localhost:8080/"
        },
        "outputId": "7679ec8b-5eb7-4712-d0bc-89f71ec0d4cf"
      },
      "source": [
        "b = input('bの素因数分解は')\n",
        "print(prime_factorization(int(b)))"
      ],
      "execution_count": null,
      "outputs": [
        {
          "output_type": "stream",
          "text": [
            "bの素因数分解は15\n",
            "[3, 5]\n"
          ],
          "name": "stdout"
        }
      ]
    },
    {
      "cell_type": "code",
      "metadata": {
        "id": "v2joFXr4sDnE"
      },
      "source": [
        "#2の累乗とメルセンヌ数\n",
        "for num in range(1,50):#rangeの範囲を変える\n",
        "  print(num,2**(num-1),2**(num)-1,2**(num-1)*(2**(num)-1))"
      ],
      "execution_count": null,
      "outputs": []
    },
    {
      "cell_type": "code",
      "metadata": {
        "id": "SpSPKnaCsKwU",
        "colab": {
          "base_uri": "https://localhost:8080/"
        },
        "outputId": "b2a891f8-13f0-46bf-93e2-5edecfc0ba9c"
      },
      "source": [
        "for num in range(1,50):\n",
        "  print('{0} | {1} | {2} |{3}'.format(num,2**(num-1),2**(num)-1,2**(num-1)*(2**(num)-1)))"
      ],
      "execution_count": null,
      "outputs": [
        {
          "output_type": "stream",
          "text": [
            "1 | 1 | 1 |1\n",
            "2 | 2 | 3 |6\n",
            "3 | 4 | 7 |28\n",
            "4 | 8 | 15 |120\n",
            "5 | 16 | 31 |496\n",
            "6 | 32 | 63 |2016\n",
            "7 | 64 | 127 |8128\n",
            "8 | 128 | 255 |32640\n",
            "9 | 256 | 511 |130816\n",
            "10 | 512 | 1023 |523776\n",
            "11 | 1024 | 2047 |2096128\n",
            "12 | 2048 | 4095 |8386560\n",
            "13 | 4096 | 8191 |33550336\n",
            "14 | 8192 | 16383 |134209536\n",
            "15 | 16384 | 32767 |536854528\n",
            "16 | 32768 | 65535 |2147450880\n",
            "17 | 65536 | 131071 |8589869056\n",
            "18 | 131072 | 262143 |34359607296\n",
            "19 | 262144 | 524287 |137438691328\n",
            "20 | 524288 | 1048575 |549755289600\n",
            "21 | 1048576 | 2097151 |2199022206976\n",
            "22 | 2097152 | 4194303 |8796090925056\n",
            "23 | 4194304 | 8388607 |35184367894528\n",
            "24 | 8388608 | 16777215 |140737479966720\n",
            "25 | 16777216 | 33554431 |562949936644096\n",
            "26 | 33554432 | 67108863 |2251799780130816\n",
            "27 | 67108864 | 134217727 |9007199187632128\n",
            "28 | 134217728 | 268435455 |36028796884746240\n",
            "29 | 268435456 | 536870911 |144115187807420416\n",
            "30 | 536870912 | 1073741823 |576460751766552576\n",
            "31 | 1073741824 | 2147483647 |2305843008139952128\n",
            "32 | 2147483648 | 4294967295 |9223372034707292160\n",
            "33 | 4294967296 | 8589934591 |36893488143124135936\n",
            "34 | 8589934592 | 17179869183 |147573952581086478336\n",
            "35 | 17179869184 | 34359738367 |590295810341525782528\n",
            "36 | 34359738368 | 68719476735 |2361183241400462868480\n",
            "37 | 68719476736 | 137438953471 |9444732965670570950656\n",
            "38 | 137438953472 | 274877906943 |37778931862819722756096\n",
            "39 | 274877906944 | 549755813887 |151115727451553768931328\n",
            "40 | 549755813888 | 1099511627775 |604462909806764831539200\n",
            "41 | 1099511627776 | 2199023255551 |2417851639228158837784576\n",
            "42 | 2199023255552 | 4398046511103 |9671406556914834374393856\n",
            "43 | 4398046511104 | 8796093022207 |38685626227663735544086528\n",
            "44 | 8796093022208 | 17592186044415 |154742504910663738269368320\n",
            "45 | 17592186044416 | 35184372088831 |618970019642672545263517696\n",
            "46 | 35184372088832 | 70368744177663 |2475880078570725365426159616\n",
            "47 | 70368744177664 | 140737488355327 |9903520314282971830448816128\n",
            "48 | 140737488355328 | 281474976710655 |39614081257132028059283619840\n",
            "49 | 281474976710656 | 562949953421311 |158456325028528393712111190016\n"
          ],
          "name": "stdout"
        }
      ]
    }
  ]
}
